{
 "cells": [
  {
   "cell_type": "code",
   "execution_count": 22,
   "id": "1af8bcfe",
   "metadata": {},
   "outputs": [],
   "source": [
    "# necessary imports(will organize and seperate by categories later)\n",
    "import os\n",
    "import glob\n",
    "import gzip\n",
    "import os\n",
    "import nglview\n",
    "from Bio.PDB import PDBParser, PPBuilder\n",
    "import pandas as pd\n",
    "import numpy as np"
   ]
  },
  {
   "cell_type": "code",
   "execution_count": null,
   "id": "bf055194",
   "metadata": {},
   "outputs": [
    {
     "name": "stdout",
     "output_type": "stream",
     "text": [
      "23586\n"
     ]
    }
   ],
   "source": [
    "#Define the file path to the unedited PDB files\n",
    "file_path = \"dataset/unedited_data/UP000005640_9606_HUMAN_v6/\"\n",
    "\n",
    "#Create a list of all the PDB files\n",
    "pdb_files = glob.glob(file_path + \"*.pdb.gz\")\n",
    "\n",
    "#Verify that the length matches the number of files\n",
    "print(len(pdb_files))"
   ]
  },
  {
   "cell_type": "code",
   "execution_count": null,
   "id": "773b0933",
   "metadata": {},
   "outputs": [],
   "source": [
    "#Verify that protein structure is successfully extracted\n",
    "parser = PDBParser(PERMISSIVE=True)\n",
    "filename = pdb_files[0]\n",
    "\n",
    "with gzip.open(filename, 'rt') as handle:\n",
    "    structure = parser.get_structure('first_structure', handle)"
   ]
  },
  {
   "cell_type": "code",
   "execution_count": null,
   "id": "c143dcf2",
   "metadata": {},
   "outputs": [
    {
     "data": {
      "application/vnd.jupyter.widget-view+json": {
       "model_id": "d478516e82c04239bc39b53028bdcbef",
       "version_major": 2,
       "version_minor": 0
      },
      "text/plain": [
       "NGLWidget()"
      ]
     },
     "metadata": {},
     "output_type": "display_data"
    }
   ],
   "source": [
    "#Show protein structure to confirm\n",
    "view = nglview.show_biopython(structure)\n",
    "view\n"
   ]
  },
  {
   "cell_type": "code",
   "execution_count": 25,
   "id": "73aba1ba",
   "metadata": {},
   "outputs": [
    {
     "ename": "FileNotFoundError",
     "evalue": "[Errno 2] No such file or directory: 'dataset/unedited_data/UP000005640_9606_HUMAN_v6/AF-Q3SXY7-F1-model_v6.pdb.gz'",
     "output_type": "error",
     "traceback": [
      "\u001b[0;31m---------------------------------------------------------------------------\u001b[0m",
      "\u001b[0;31mFileNotFoundError\u001b[0m                         Traceback (most recent call last)",
      "Cell \u001b[0;32mIn[25], line 12\u001b[0m\n\u001b[1;32m      9\u001b[0m \u001b[38;5;66;03m#loop through list of pdb files\u001b[39;00m\n\u001b[1;32m     10\u001b[0m \u001b[38;5;28;01mfor\u001b[39;00m pdb \u001b[38;5;129;01min\u001b[39;00m pdb_files:\n\u001b[1;32m     11\u001b[0m     \u001b[38;5;66;03m#unzip using gzip\u001b[39;00m\n\u001b[0;32m---> 12\u001b[0m     \u001b[38;5;28;01mwith\u001b[39;00m gzip\u001b[38;5;241m.\u001b[39mopen(pdb, \u001b[38;5;124m'\u001b[39m\u001b[38;5;124mrt\u001b[39m\u001b[38;5;124m'\u001b[39m) \u001b[38;5;28;01mas\u001b[39;00m handle:\n\u001b[1;32m     13\u001b[0m         \u001b[38;5;66;03m#get the structure\u001b[39;00m\n\u001b[1;32m     14\u001b[0m         structure \u001b[38;5;241m=\u001b[39m parser\u001b[38;5;241m.\u001b[39mget_structure(\u001b[38;5;124m'\u001b[39m\u001b[38;5;124mpdb_structure\u001b[39m\u001b[38;5;124m'\u001b[39m, handle)\n\u001b[1;32m     16\u001b[0m         \u001b[38;5;66;03m#use the struture module to extract important features(Will change later to add more complex features)\u001b[39;00m\n",
      "File \u001b[0;32m/opt/anaconda3/lib/python3.11/gzip.py:58\u001b[0m, in \u001b[0;36mopen\u001b[0;34m(filename, mode, compresslevel, encoding, errors, newline)\u001b[0m\n\u001b[1;32m     56\u001b[0m gz_mode \u001b[38;5;241m=\u001b[39m mode\u001b[38;5;241m.\u001b[39mreplace(\u001b[38;5;124m\"\u001b[39m\u001b[38;5;124mt\u001b[39m\u001b[38;5;124m\"\u001b[39m, \u001b[38;5;124m\"\u001b[39m\u001b[38;5;124m\"\u001b[39m)\n\u001b[1;32m     57\u001b[0m \u001b[38;5;28;01mif\u001b[39;00m \u001b[38;5;28misinstance\u001b[39m(filename, (\u001b[38;5;28mstr\u001b[39m, \u001b[38;5;28mbytes\u001b[39m, os\u001b[38;5;241m.\u001b[39mPathLike)):\n\u001b[0;32m---> 58\u001b[0m     binary_file \u001b[38;5;241m=\u001b[39m GzipFile(filename, gz_mode, compresslevel)\n\u001b[1;32m     59\u001b[0m \u001b[38;5;28;01melif\u001b[39;00m \u001b[38;5;28mhasattr\u001b[39m(filename, \u001b[38;5;124m\"\u001b[39m\u001b[38;5;124mread\u001b[39m\u001b[38;5;124m\"\u001b[39m) \u001b[38;5;129;01mor\u001b[39;00m \u001b[38;5;28mhasattr\u001b[39m(filename, \u001b[38;5;124m\"\u001b[39m\u001b[38;5;124mwrite\u001b[39m\u001b[38;5;124m\"\u001b[39m):\n\u001b[1;32m     60\u001b[0m     binary_file \u001b[38;5;241m=\u001b[39m GzipFile(\u001b[38;5;28;01mNone\u001b[39;00m, gz_mode, compresslevel, filename)\n",
      "File \u001b[0;32m/opt/anaconda3/lib/python3.11/gzip.py:174\u001b[0m, in \u001b[0;36mGzipFile.__init__\u001b[0;34m(self, filename, mode, compresslevel, fileobj, mtime)\u001b[0m\n\u001b[1;32m    172\u001b[0m     mode \u001b[38;5;241m+\u001b[39m\u001b[38;5;241m=\u001b[39m \u001b[38;5;124m'\u001b[39m\u001b[38;5;124mb\u001b[39m\u001b[38;5;124m'\u001b[39m\n\u001b[1;32m    173\u001b[0m \u001b[38;5;28;01mif\u001b[39;00m fileobj \u001b[38;5;129;01mis\u001b[39;00m \u001b[38;5;28;01mNone\u001b[39;00m:\n\u001b[0;32m--> 174\u001b[0m     fileobj \u001b[38;5;241m=\u001b[39m \u001b[38;5;28mself\u001b[39m\u001b[38;5;241m.\u001b[39mmyfileobj \u001b[38;5;241m=\u001b[39m builtins\u001b[38;5;241m.\u001b[39mopen(filename, mode \u001b[38;5;129;01mor\u001b[39;00m \u001b[38;5;124m'\u001b[39m\u001b[38;5;124mrb\u001b[39m\u001b[38;5;124m'\u001b[39m)\n\u001b[1;32m    175\u001b[0m \u001b[38;5;28;01mif\u001b[39;00m filename \u001b[38;5;129;01mis\u001b[39;00m \u001b[38;5;28;01mNone\u001b[39;00m:\n\u001b[1;32m    176\u001b[0m     filename \u001b[38;5;241m=\u001b[39m \u001b[38;5;28mgetattr\u001b[39m(fileobj, \u001b[38;5;124m'\u001b[39m\u001b[38;5;124mname\u001b[39m\u001b[38;5;124m'\u001b[39m, \u001b[38;5;124m'\u001b[39m\u001b[38;5;124m'\u001b[39m)\n",
      "\u001b[0;31mFileNotFoundError\u001b[0m: [Errno 2] No such file or directory: 'dataset/unedited_data/UP000005640_9606_HUMAN_v6/AF-Q3SXY7-F1-model_v6.pdb.gz'"
     ]
    }
   ],
   "source": [
    "#feature extraction\n",
    "\n",
    "#look through files to create pandas dataframe\n",
    "parser = PDBParser(PERMISSIVE=True)\n",
    "\n",
    "#create feature list\n",
    "features = []\n",
    "\n",
    "#loop through list of pdb files\n",
    "for pdb in pdb_files:\n",
    "    #unzip using gzip\n",
    "    with gzip.open(pdb, 'rt') as handle:\n",
    "        #get the structure\n",
    "        structure = parser.get_structure('pdb_structure', handle)\n",
    "\n",
    "        #use the struture module to extract important features(Will change later to add more complex features)\n",
    "        chain_count = len(list(structure.get_chains()))\n",
    "        residue_count = len(list(structure.get_residues()))\n",
    "        atom_count = len(list(structure.get_atoms()))\n",
    "\n",
    "        # Get sequence from first polypeptide found\n",
    "        ppb = PPBuilder()\n",
    "        peptides = ppb.build_peptides(structure)\n",
    "        sequence = str(peptides[0].get_sequence()) if peptides else None\n",
    "        \n",
    "        features.append({\n",
    "            \"filename\": pdb,\n",
    "            \"chain_count\": chain_count,\n",
    "            \"residue_count\": residue_count,\n",
    "            \"atom_count\": atom_count,\n",
    "            \"sequence\": sequence\n",
    "        })\n",
    "        \n",
    "        #create dataframe\n",
    "        df = pd.DataFrame(features)"
   ]
  }
 ],
 "metadata": {
  "kernelspec": {
   "display_name": "base",
   "language": "python",
   "name": "python3"
  },
  "language_info": {
   "codemirror_mode": {
    "name": "ipython",
    "version": 3
   },
   "file_extension": ".py",
   "mimetype": "text/x-python",
   "name": "python",
   "nbconvert_exporter": "python",
   "pygments_lexer": "ipython3",
   "version": "3.11.8"
  }
 },
 "nbformat": 4,
 "nbformat_minor": 5
}
