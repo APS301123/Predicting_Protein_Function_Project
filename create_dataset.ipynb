{
 "cells": [
  {
   "cell_type": "code",
   "execution_count": null,
   "id": "1af8bcfe",
   "metadata": {},
   "outputs": [],
   "source": [
    "# necessary imports\n",
    "import os\n",
    "import glob\n",
    "import gzip\n",
    "from Bio.PDB import PDBParser\n",
    "import pandas as pd\n",
    "import numpy as np"
   ]
  },
  {
   "cell_type": "code",
   "execution_count": null,
   "id": "bf055194",
   "metadata": {},
   "outputs": [
    {
     "name": "stdout",
     "output_type": "stream",
     "text": [
      "Found 0 PDB files\n"
     ]
    }
   ],
   "source": [
    "#Define the file path to the unedited PDB files\n",
    "file_path = \"dataset/unedited_data/UP000005640_9606_HUMAN_v6/\"\n",
    "\n",
    "#Use glob\n",
    "pdb_files = extend(glob.glob(os.path.join(file_path, \"*.pdb.gz\")))  # Compressed\n",
    "\n",
    "#Print the number of PDB files found\n",
    "print(f\"Found {len(pdb_files)} PDB files\")\n",
    "print(f\"Sample files: {pdb_files[:5]}\")"
   ]
  }
 ],
 "metadata": {
  "kernelspec": {
   "display_name": "base",
   "language": "python",
   "name": "python3"
  },
  "language_info": {
   "codemirror_mode": {
    "name": "ipython",
    "version": 3
   },
   "file_extension": ".py",
   "mimetype": "text/x-python",
   "name": "python",
   "nbconvert_exporter": "python",
   "pygments_lexer": "ipython3",
   "version": "3.11.8"
  }
 },
 "nbformat": 4,
 "nbformat_minor": 5
}
